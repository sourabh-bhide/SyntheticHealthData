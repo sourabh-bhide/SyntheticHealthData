{
  "nbformat": 4,
  "nbformat_minor": 0,
  "metadata": {
    "kernelspec": {
      "display_name": "Python 3",
      "language": "python",
      "name": "python3"
    },
    "language_info": {
      "codemirror_mode": {
        "name": "ipython",
        "version": 3
      },
      "file_extension": ".py",
      "mimetype": "text/x-python",
      "name": "python",
      "nbconvert_exporter": "python",
      "pygments_lexer": "ipython3",
      "version": "3.7.4"
    },
    "colab": {
      "name": "Diabetes_AutoML.ipynb",
      "provenance": [],
      "toc_visible": true,
      "include_colab_link": true
    }
  },
  "cells": [
    {
      "cell_type": "markdown",
      "metadata": {
        "id": "view-in-github",
        "colab_type": "text"
      },
      "source": [
        "<a href=\"https://colab.research.google.com/github/sourabh-bhide/SyntheticHealthData/blob/main/Diabetes_AutoML.ipynb\" target=\"_parent\"><img src=\"https://colab.research.google.com/assets/colab-badge.svg\" alt=\"Open In Colab\"/></a>"
      ]
    },
    {
      "cell_type": "code",
      "metadata": {
        "id": "U-US7AcJ3-uk"
      },
      "source": [
        "#https://biolib.com/shd2020/Diabetes-Machine-Learning-Data/"
      ],
      "execution_count": null,
      "outputs": []
    },
    {
      "cell_type": "code",
      "metadata": {
        "id": "opkd4c0r3-up"
      },
      "source": [
        "import pandas as pd\n",
        "import numpy as np\n",
        "import tensorflow as tf\n",
        "from tensorflow import feature_column\n",
        "from tensorflow.keras import layers\n",
        "from sklearn.model_selection import train_test_split"
      ],
      "execution_count": null,
      "outputs": []
    },
    {
      "cell_type": "markdown",
      "metadata": {
        "id": "xhuY3uwE3-up"
      },
      "source": [
        "# Load Data"
      ]
    },
    {
      "cell_type": "code",
      "metadata": {
        "colab": {
          "base_uri": "https://localhost:8080/"
        },
        "id": "B_GeBoWL4NIU",
        "outputId": "e72f4462-a8e4-4053-d2e5-722966f172fe"
      },
      "source": [
        "from google.colab import drive\n",
        "drive.mount('/content/gdrive', force_remount=True)"
      ],
      "execution_count": null,
      "outputs": [
        {
          "output_type": "stream",
          "text": [
            "Mounted at /content/gdrive\n"
          ],
          "name": "stdout"
        }
      ]
    },
    {
      "cell_type": "code",
      "metadata": {
        "id": "T73U2--53-uq"
      },
      "source": [
        "real_data = pd.read_csv('/content/gdrive/MyDrive/Diabetes-Machine-Learning-Data/data/real_data.csv')\n",
        "synthetic_data = pd.read_csv('/content/gdrive/MyDrive/Diabetes-Machine-Learning-Data/data/synthetic_data.csv')"
      ],
      "execution_count": null,
      "outputs": []
    },
    {
      "cell_type": "code",
      "metadata": {
        "id": "8D9FRY3o3-ur"
      },
      "source": [
        "#define function for classifying players based on points\n",
        "def f(row):\n",
        "    if row['readmitted'] == '<30':\n",
        "        val = 1\n",
        "    elif row['readmitted'] == '>30':\n",
        "        val = 2\n",
        "    else:\n",
        "        val = 3\n",
        "    return val\n",
        "\n",
        "#create new column 'Good' using the function above\n",
        "synthetic_data['readmitted_num'] = synthetic_data.apply(f, axis=1)\n",
        "real_data['readmitted_num'] = real_data.apply(f, axis=1)"
      ],
      "execution_count": null,
      "outputs": []
    },
    {
      "cell_type": "code",
      "metadata": {
        "colab": {
          "base_uri": "https://localhost:8080/"
        },
        "id": "-qpWfAeD3-uq",
        "outputId": "7ec1500b-87e2-4464-dc49-9bd252aa3cd7"
      },
      "source": [
        "synthetic_data['readmitted'].unique()"
      ],
      "execution_count": null,
      "outputs": [
        {
          "output_type": "execute_result",
          "data": {
            "text/plain": [
              "array(['<30', 'NO', '>30'], dtype=object)"
            ]
          },
          "metadata": {
            "tags": []
          },
          "execution_count": 28
        }
      ]
    },
    {
      "cell_type": "code",
      "metadata": {
        "colab": {
          "base_uri": "https://localhost:8080/",
          "height": 513
        },
        "id": "MWzea9933-ur",
        "outputId": "c8b8b7b4-d2a5-4879-88ec-3b1e46c04e55"
      },
      "source": [
        "dataframe = synthetic_data.copy()\n",
        "dataframe.head()"
      ],
      "execution_count": null,
      "outputs": [
        {
          "output_type": "execute_result",
          "data": {
            "text/html": [
              "<div>\n",
              "<style scoped>\n",
              "    .dataframe tbody tr th:only-of-type {\n",
              "        vertical-align: middle;\n",
              "    }\n",
              "\n",
              "    .dataframe tbody tr th {\n",
              "        vertical-align: top;\n",
              "    }\n",
              "\n",
              "    .dataframe thead th {\n",
              "        text-align: right;\n",
              "    }\n",
              "</style>\n",
              "<table border=\"1\" class=\"dataframe\">\n",
              "  <thead>\n",
              "    <tr style=\"text-align: right;\">\n",
              "      <th></th>\n",
              "      <th>race</th>\n",
              "      <th>gender</th>\n",
              "      <th>age</th>\n",
              "      <th>time_in_hospital</th>\n",
              "      <th>num_lab_procedures</th>\n",
              "      <th>num_procedures</th>\n",
              "      <th>num_medications</th>\n",
              "      <th>number_outpatient</th>\n",
              "      <th>number_emergency</th>\n",
              "      <th>number_inpatient</th>\n",
              "      <th>number_diagnoses</th>\n",
              "      <th>max_glu_serum</th>\n",
              "      <th>A1Cresult</th>\n",
              "      <th>metformin</th>\n",
              "      <th>repaglinide</th>\n",
              "      <th>nateglinide</th>\n",
              "      <th>chlorpropamide</th>\n",
              "      <th>glimepiride</th>\n",
              "      <th>acetohexamide</th>\n",
              "      <th>glipizide</th>\n",
              "      <th>glyburide</th>\n",
              "      <th>tolbutamide</th>\n",
              "      <th>pioglitazone</th>\n",
              "      <th>rosiglitazone</th>\n",
              "      <th>acarbose</th>\n",
              "      <th>miglitol</th>\n",
              "      <th>troglitazone</th>\n",
              "      <th>tolazamide</th>\n",
              "      <th>examide</th>\n",
              "      <th>citoglipton</th>\n",
              "      <th>insulin</th>\n",
              "      <th>glyburide-metformin</th>\n",
              "      <th>glipizide-metformin</th>\n",
              "      <th>glimepiride-pioglitazone</th>\n",
              "      <th>metformin-rosiglitazone</th>\n",
              "      <th>metformin-pioglitazone</th>\n",
              "      <th>change</th>\n",
              "      <th>diabetesMed</th>\n",
              "      <th>readmitted</th>\n",
              "      <th>_diag_1</th>\n",
              "      <th>_diag_2</th>\n",
              "      <th>_diag_3</th>\n",
              "      <th>readmitted_num</th>\n",
              "    </tr>\n",
              "  </thead>\n",
              "  <tbody>\n",
              "    <tr>\n",
              "      <th>0</th>\n",
              "      <td>Caucasian</td>\n",
              "      <td>Female</td>\n",
              "      <td>[60-70)</td>\n",
              "      <td>3</td>\n",
              "      <td>40</td>\n",
              "      <td>0</td>\n",
              "      <td>14</td>\n",
              "      <td>0</td>\n",
              "      <td>1</td>\n",
              "      <td>1</td>\n",
              "      <td>9</td>\n",
              "      <td>None</td>\n",
              "      <td>None</td>\n",
              "      <td>No</td>\n",
              "      <td>No</td>\n",
              "      <td>No</td>\n",
              "      <td>No</td>\n",
              "      <td>No</td>\n",
              "      <td>No</td>\n",
              "      <td>No</td>\n",
              "      <td>Steady</td>\n",
              "      <td>No</td>\n",
              "      <td>No</td>\n",
              "      <td>No</td>\n",
              "      <td>No</td>\n",
              "      <td>No</td>\n",
              "      <td>No</td>\n",
              "      <td>No</td>\n",
              "      <td>No</td>\n",
              "      <td>No</td>\n",
              "      <td>No</td>\n",
              "      <td>No</td>\n",
              "      <td>No</td>\n",
              "      <td>No</td>\n",
              "      <td>No</td>\n",
              "      <td>No</td>\n",
              "      <td>No</td>\n",
              "      <td>Yes</td>\n",
              "      <td>&lt;30</td>\n",
              "      <td>Supplemental classification</td>\n",
              "      <td>Diseases of the skin and subcutaneous tissue</td>\n",
              "      <td>Endocrine, nutritional, and metabolic diseases...</td>\n",
              "      <td>1</td>\n",
              "    </tr>\n",
              "    <tr>\n",
              "      <th>1</th>\n",
              "      <td>Caucasian</td>\n",
              "      <td>Male</td>\n",
              "      <td>[50-60)</td>\n",
              "      <td>5</td>\n",
              "      <td>40</td>\n",
              "      <td>0</td>\n",
              "      <td>5</td>\n",
              "      <td>0</td>\n",
              "      <td>0</td>\n",
              "      <td>0</td>\n",
              "      <td>3</td>\n",
              "      <td>None</td>\n",
              "      <td>None</td>\n",
              "      <td>No</td>\n",
              "      <td>No</td>\n",
              "      <td>No</td>\n",
              "      <td>No</td>\n",
              "      <td>No</td>\n",
              "      <td>No</td>\n",
              "      <td>No</td>\n",
              "      <td>No</td>\n",
              "      <td>No</td>\n",
              "      <td>No</td>\n",
              "      <td>No</td>\n",
              "      <td>No</td>\n",
              "      <td>No</td>\n",
              "      <td>No</td>\n",
              "      <td>No</td>\n",
              "      <td>No</td>\n",
              "      <td>No</td>\n",
              "      <td>No</td>\n",
              "      <td>No</td>\n",
              "      <td>No</td>\n",
              "      <td>No</td>\n",
              "      <td>No</td>\n",
              "      <td>No</td>\n",
              "      <td>No</td>\n",
              "      <td>Yes</td>\n",
              "      <td>NO</td>\n",
              "      <td>Injury and poisoning</td>\n",
              "      <td>Diabetes mellitus</td>\n",
              "      <td>Diseases of the circulatory system</td>\n",
              "      <td>3</td>\n",
              "    </tr>\n",
              "    <tr>\n",
              "      <th>2</th>\n",
              "      <td>Caucasian</td>\n",
              "      <td>Female</td>\n",
              "      <td>[50-60)</td>\n",
              "      <td>1</td>\n",
              "      <td>43</td>\n",
              "      <td>0</td>\n",
              "      <td>23</td>\n",
              "      <td>0</td>\n",
              "      <td>0</td>\n",
              "      <td>3</td>\n",
              "      <td>9</td>\n",
              "      <td>Norm</td>\n",
              "      <td>None</td>\n",
              "      <td>No</td>\n",
              "      <td>No</td>\n",
              "      <td>No</td>\n",
              "      <td>No</td>\n",
              "      <td>No</td>\n",
              "      <td>No</td>\n",
              "      <td>No</td>\n",
              "      <td>No</td>\n",
              "      <td>No</td>\n",
              "      <td>No</td>\n",
              "      <td>No</td>\n",
              "      <td>No</td>\n",
              "      <td>No</td>\n",
              "      <td>No</td>\n",
              "      <td>No</td>\n",
              "      <td>No</td>\n",
              "      <td>No</td>\n",
              "      <td>No</td>\n",
              "      <td>No</td>\n",
              "      <td>No</td>\n",
              "      <td>No</td>\n",
              "      <td>No</td>\n",
              "      <td>No</td>\n",
              "      <td>Ch</td>\n",
              "      <td>Yes</td>\n",
              "      <td>&gt;30</td>\n",
              "      <td>Diseases of the circulatory system</td>\n",
              "      <td>Diseases of the skin and subcutaneous tissue</td>\n",
              "      <td>Injury and poisoning</td>\n",
              "      <td>2</td>\n",
              "    </tr>\n",
              "    <tr>\n",
              "      <th>3</th>\n",
              "      <td>Caucasian</td>\n",
              "      <td>Female</td>\n",
              "      <td>[70-80)</td>\n",
              "      <td>1</td>\n",
              "      <td>41</td>\n",
              "      <td>5</td>\n",
              "      <td>14</td>\n",
              "      <td>0</td>\n",
              "      <td>12</td>\n",
              "      <td>3</td>\n",
              "      <td>9</td>\n",
              "      <td>None</td>\n",
              "      <td>Norm</td>\n",
              "      <td>No</td>\n",
              "      <td>No</td>\n",
              "      <td>No</td>\n",
              "      <td>No</td>\n",
              "      <td>No</td>\n",
              "      <td>No</td>\n",
              "      <td>No</td>\n",
              "      <td>No</td>\n",
              "      <td>No</td>\n",
              "      <td>No</td>\n",
              "      <td>No</td>\n",
              "      <td>No</td>\n",
              "      <td>No</td>\n",
              "      <td>No</td>\n",
              "      <td>No</td>\n",
              "      <td>No</td>\n",
              "      <td>No</td>\n",
              "      <td>Down</td>\n",
              "      <td>No</td>\n",
              "      <td>No</td>\n",
              "      <td>No</td>\n",
              "      <td>No</td>\n",
              "      <td>No</td>\n",
              "      <td>Ch</td>\n",
              "      <td>Yes</td>\n",
              "      <td>&gt;30</td>\n",
              "      <td>Diseases of the respiratory system</td>\n",
              "      <td>Diseases of the musculoskeletal system and con...</td>\n",
              "      <td>Diseases of the circulatory system</td>\n",
              "      <td>2</td>\n",
              "    </tr>\n",
              "    <tr>\n",
              "      <th>4</th>\n",
              "      <td>Caucasian</td>\n",
              "      <td>Female</td>\n",
              "      <td>[80-90)</td>\n",
              "      <td>4</td>\n",
              "      <td>68</td>\n",
              "      <td>2</td>\n",
              "      <td>17</td>\n",
              "      <td>0</td>\n",
              "      <td>0</td>\n",
              "      <td>1</td>\n",
              "      <td>4</td>\n",
              "      <td>None</td>\n",
              "      <td>None</td>\n",
              "      <td>No</td>\n",
              "      <td>No</td>\n",
              "      <td>No</td>\n",
              "      <td>No</td>\n",
              "      <td>No</td>\n",
              "      <td>No</td>\n",
              "      <td>No</td>\n",
              "      <td>No</td>\n",
              "      <td>No</td>\n",
              "      <td>No</td>\n",
              "      <td>No</td>\n",
              "      <td>No</td>\n",
              "      <td>No</td>\n",
              "      <td>No</td>\n",
              "      <td>No</td>\n",
              "      <td>No</td>\n",
              "      <td>No</td>\n",
              "      <td>No</td>\n",
              "      <td>No</td>\n",
              "      <td>No</td>\n",
              "      <td>No</td>\n",
              "      <td>No</td>\n",
              "      <td>No</td>\n",
              "      <td>Ch</td>\n",
              "      <td>Yes</td>\n",
              "      <td>&gt;30</td>\n",
              "      <td>Diseases of the circulatory system</td>\n",
              "      <td>Diseases of the respiratory system</td>\n",
              "      <td>Injury and poisoning</td>\n",
              "      <td>2</td>\n",
              "    </tr>\n",
              "  </tbody>\n",
              "</table>\n",
              "</div>"
            ],
            "text/plain": [
              "        race  ... readmitted_num\n",
              "0  Caucasian  ...              1\n",
              "1  Caucasian  ...              3\n",
              "2  Caucasian  ...              2\n",
              "3  Caucasian  ...              2\n",
              "4  Caucasian  ...              2\n",
              "\n",
              "[5 rows x 43 columns]"
            ]
          },
          "metadata": {
            "tags": []
          },
          "execution_count": 29
        }
      ]
    },
    {
      "cell_type": "markdown",
      "metadata": {
        "id": "Z92HLFW2PidZ"
      },
      "source": [
        "# Exploratory Data Analysis"
      ]
    },
    {
      "cell_type": "code",
      "metadata": {
        "id": "u8qhgZvBPh9Q"
      },
      "source": [
        "df = dataframe.copy()"
      ],
      "execution_count": null,
      "outputs": []
    },
    {
      "cell_type": "code",
      "metadata": {
        "colab": {
          "base_uri": "https://localhost:8080/"
        },
        "id": "Jvey5YtfQB6V",
        "outputId": "fe4e27b5-d7a0-4baf-9ee4-9f4a56bd7161"
      },
      "source": [
        "df.info()"
      ],
      "execution_count": null,
      "outputs": [
        {
          "output_type": "stream",
          "text": [
            "<class 'pandas.core.frame.DataFrame'>\n",
            "RangeIndex: 78441 entries, 0 to 78440\n",
            "Data columns (total 43 columns):\n",
            " #   Column                    Non-Null Count  Dtype \n",
            "---  ------                    --------------  ----- \n",
            " 0   race                      78441 non-null  object\n",
            " 1   gender                    78441 non-null  object\n",
            " 2   age                       78441 non-null  object\n",
            " 3   time_in_hospital          78441 non-null  int64 \n",
            " 4   num_lab_procedures        78441 non-null  int64 \n",
            " 5   num_procedures            78441 non-null  int64 \n",
            " 6   num_medications           78441 non-null  int64 \n",
            " 7   number_outpatient         78441 non-null  int64 \n",
            " 8   number_emergency          78441 non-null  int64 \n",
            " 9   number_inpatient          78441 non-null  int64 \n",
            " 10  number_diagnoses          78441 non-null  int64 \n",
            " 11  max_glu_serum             78441 non-null  object\n",
            " 12  A1Cresult                 78441 non-null  object\n",
            " 13  metformin                 78441 non-null  object\n",
            " 14  repaglinide               78441 non-null  object\n",
            " 15  nateglinide               78441 non-null  object\n",
            " 16  chlorpropamide            78441 non-null  object\n",
            " 17  glimepiride               78441 non-null  object\n",
            " 18  acetohexamide             78441 non-null  object\n",
            " 19  glipizide                 78441 non-null  object\n",
            " 20  glyburide                 78441 non-null  object\n",
            " 21  tolbutamide               78441 non-null  object\n",
            " 22  pioglitazone              78441 non-null  object\n",
            " 23  rosiglitazone             78441 non-null  object\n",
            " 24  acarbose                  78441 non-null  object\n",
            " 25  miglitol                  78441 non-null  object\n",
            " 26  troglitazone              78441 non-null  object\n",
            " 27  tolazamide                78441 non-null  object\n",
            " 28  examide                   78441 non-null  object\n",
            " 29  citoglipton               78441 non-null  object\n",
            " 30  insulin                   78441 non-null  object\n",
            " 31  glyburide-metformin       78441 non-null  object\n",
            " 32  glipizide-metformin       78441 non-null  object\n",
            " 33  glimepiride-pioglitazone  78441 non-null  object\n",
            " 34  metformin-rosiglitazone   78441 non-null  object\n",
            " 35  metformin-pioglitazone    78441 non-null  object\n",
            " 36  change                    78441 non-null  object\n",
            " 37  diabetesMed               78441 non-null  object\n",
            " 38  readmitted                78441 non-null  object\n",
            " 39  _diag_1                   78441 non-null  object\n",
            " 40  _diag_2                   78441 non-null  object\n",
            " 41  _diag_3                   78441 non-null  object\n",
            " 42  readmitted_num            78441 non-null  int64 \n",
            "dtypes: int64(9), object(34)\n",
            "memory usage: 25.7+ MB\n"
          ],
          "name": "stdout"
        }
      ]
    },
    {
      "cell_type": "code",
      "metadata": {
        "colab": {
          "base_uri": "https://localhost:8080/",
          "height": 317
        },
        "id": "DGVrg3uZQBt3",
        "outputId": "29cc353d-f3e7-4b44-a5aa-18a8490e061b"
      },
      "source": [
        "df.describe()"
      ],
      "execution_count": null,
      "outputs": [
        {
          "output_type": "execute_result",
          "data": {
            "text/html": [
              "<div>\n",
              "<style scoped>\n",
              "    .dataframe tbody tr th:only-of-type {\n",
              "        vertical-align: middle;\n",
              "    }\n",
              "\n",
              "    .dataframe tbody tr th {\n",
              "        vertical-align: top;\n",
              "    }\n",
              "\n",
              "    .dataframe thead th {\n",
              "        text-align: right;\n",
              "    }\n",
              "</style>\n",
              "<table border=\"1\" class=\"dataframe\">\n",
              "  <thead>\n",
              "    <tr style=\"text-align: right;\">\n",
              "      <th></th>\n",
              "      <th>time_in_hospital</th>\n",
              "      <th>num_lab_procedures</th>\n",
              "      <th>num_procedures</th>\n",
              "      <th>num_medications</th>\n",
              "      <th>number_outpatient</th>\n",
              "      <th>number_emergency</th>\n",
              "      <th>number_inpatient</th>\n",
              "      <th>number_diagnoses</th>\n",
              "      <th>readmitted_num</th>\n",
              "    </tr>\n",
              "  </thead>\n",
              "  <tbody>\n",
              "    <tr>\n",
              "      <th>count</th>\n",
              "      <td>78441.000000</td>\n",
              "      <td>78441.000000</td>\n",
              "      <td>78441.000000</td>\n",
              "      <td>78441.000000</td>\n",
              "      <td>78441.000000</td>\n",
              "      <td>78441.000000</td>\n",
              "      <td>78441.000000</td>\n",
              "      <td>78441.000000</td>\n",
              "      <td>78441.000000</td>\n",
              "    </tr>\n",
              "    <tr>\n",
              "      <th>mean</th>\n",
              "      <td>4.036868</td>\n",
              "      <td>43.542752</td>\n",
              "      <td>1.188218</td>\n",
              "      <td>16.675297</td>\n",
              "      <td>0.516363</td>\n",
              "      <td>0.279076</td>\n",
              "      <td>0.746612</td>\n",
              "      <td>7.596729</td>\n",
              "      <td>2.418302</td>\n",
              "    </tr>\n",
              "    <tr>\n",
              "      <th>std</th>\n",
              "      <td>3.078212</td>\n",
              "      <td>20.357788</td>\n",
              "      <td>1.657656</td>\n",
              "      <td>8.361752</td>\n",
              "      <td>2.035255</td>\n",
              "      <td>1.838764</td>\n",
              "      <td>1.526452</td>\n",
              "      <td>1.839722</td>\n",
              "      <td>0.685137</td>\n",
              "    </tr>\n",
              "    <tr>\n",
              "      <th>min</th>\n",
              "      <td>1.000000</td>\n",
              "      <td>1.000000</td>\n",
              "      <td>0.000000</td>\n",
              "      <td>1.000000</td>\n",
              "      <td>0.000000</td>\n",
              "      <td>0.000000</td>\n",
              "      <td>0.000000</td>\n",
              "      <td>3.000000</td>\n",
              "      <td>1.000000</td>\n",
              "    </tr>\n",
              "    <tr>\n",
              "      <th>25%</th>\n",
              "      <td>2.000000</td>\n",
              "      <td>32.000000</td>\n",
              "      <td>0.000000</td>\n",
              "      <td>11.000000</td>\n",
              "      <td>0.000000</td>\n",
              "      <td>0.000000</td>\n",
              "      <td>0.000000</td>\n",
              "      <td>6.000000</td>\n",
              "      <td>2.000000</td>\n",
              "    </tr>\n",
              "    <tr>\n",
              "      <th>50%</th>\n",
              "      <td>3.000000</td>\n",
              "      <td>45.000000</td>\n",
              "      <td>0.000000</td>\n",
              "      <td>16.000000</td>\n",
              "      <td>0.000000</td>\n",
              "      <td>0.000000</td>\n",
              "      <td>0.000000</td>\n",
              "      <td>9.000000</td>\n",
              "      <td>3.000000</td>\n",
              "    </tr>\n",
              "    <tr>\n",
              "      <th>75%</th>\n",
              "      <td>5.000000</td>\n",
              "      <td>57.000000</td>\n",
              "      <td>2.000000</td>\n",
              "      <td>21.000000</td>\n",
              "      <td>0.000000</td>\n",
              "      <td>0.000000</td>\n",
              "      <td>1.000000</td>\n",
              "      <td>9.000000</td>\n",
              "      <td>3.000000</td>\n",
              "    </tr>\n",
              "    <tr>\n",
              "      <th>max</th>\n",
              "      <td>14.000000</td>\n",
              "      <td>126.000000</td>\n",
              "      <td>6.000000</td>\n",
              "      <td>75.000000</td>\n",
              "      <td>42.000000</td>\n",
              "      <td>76.000000</td>\n",
              "      <td>21.000000</td>\n",
              "      <td>16.000000</td>\n",
              "      <td>3.000000</td>\n",
              "    </tr>\n",
              "  </tbody>\n",
              "</table>\n",
              "</div>"
            ],
            "text/plain": [
              "       time_in_hospital  num_lab_procedures  ...  number_diagnoses  readmitted_num\n",
              "count      78441.000000        78441.000000  ...      78441.000000    78441.000000\n",
              "mean           4.036868           43.542752  ...          7.596729        2.418302\n",
              "std            3.078212           20.357788  ...          1.839722        0.685137\n",
              "min            1.000000            1.000000  ...          3.000000        1.000000\n",
              "25%            2.000000           32.000000  ...          6.000000        2.000000\n",
              "50%            3.000000           45.000000  ...          9.000000        3.000000\n",
              "75%            5.000000           57.000000  ...          9.000000        3.000000\n",
              "max           14.000000          126.000000  ...         16.000000        3.000000\n",
              "\n",
              "[8 rows x 9 columns]"
            ]
          },
          "metadata": {
            "tags": []
          },
          "execution_count": 39
        }
      ]
    },
    {
      "cell_type": "code",
      "metadata": {
        "colab": {
          "base_uri": "https://localhost:8080/",
          "height": 380
        },
        "id": "d4CCdIgcQZBs",
        "outputId": "0d02e898-09d8-42c9-9979-a6d44e3a1ed4"
      },
      "source": [
        "import seaborn as sns\n",
        "import matplotlib.pyplot as plt\n",
        "plt.figure(figsize=(8,4))\n",
        "sns.heatmap(real_data.corr(),cmap='PiYG',annot=False)"
      ],
      "execution_count": null,
      "outputs": [
        {
          "output_type": "execute_result",
          "data": {
            "text/plain": [
              "<matplotlib.axes._subplots.AxesSubplot at 0x7fe585fb9588>"
            ]
          },
          "metadata": {
            "tags": []
          },
          "execution_count": 43
        },
        {
          "output_type": "display_data",
          "data": {
            "image/png": "[encoded data removed]",
            "text/plain": [
              "<Figure size 576x288 with 2 Axes>"
            ]
          },
          "metadata": {
            "tags": [],
            "needs_background": "light"
          }
        }
      ]
    },
    {
      "cell_type": "code",
      "metadata": {
        "id": "3qm_mSaPQY2-"
      },
      "source": [
        ""
      ],
      "execution_count": null,
      "outputs": []
    },
    {
      "cell_type": "code",
      "metadata": {
        "id": "KTi3ykTvPhzX"
      },
      "source": [
        ""
      ],
      "execution_count": null,
      "outputs": []
    },
    {
      "cell_type": "markdown",
      "metadata": {
        "id": "4nkFrUt43-ur"
      },
      "source": [
        "# Split the dataframe into train, validation, and test"
      ]
    },
    {
      "cell_type": "code",
      "metadata": {
        "colab": {
          "base_uri": "https://localhost:8080/"
        },
        "id": "zjbWkwFG3-us",
        "outputId": "3f27811b-c6f1-4e8d-f144-330e32e174d9"
      },
      "source": [
        "train, test = train_test_split(dataframe, test_size=0.2)\n",
        "train, val = train_test_split(train, test_size=0.2)\n",
        "print(len(train), 'train examples')\n",
        "print(len(val), 'validation examples')\n",
        "print(len(test), 'test examples')"
      ],
      "execution_count": null,
      "outputs": [
        {
          "output_type": "stream",
          "text": [
            "50201 train examples\n",
            "12551 validation examples\n",
            "15689 test examples\n"
          ],
          "name": "stdout"
        }
      ]
    },
    {
      "cell_type": "markdown",
      "metadata": {
        "id": "WlfsVI-E3-us"
      },
      "source": [
        "# Using AutoML"
      ]
    },
    {
      "cell_type": "code",
      "metadata": {
        "id": "J5KCej-a5NWE"
      },
      "source": [
        "!pip install autokeras"
      ],
      "execution_count": null,
      "outputs": []
    },
    {
      "cell_type": "code",
      "metadata": {
        "id": "i3ik_hW53-us"
      },
      "source": [
        "import autokeras as ak\n",
        "from autokeras import StructuredDataClassifier\n"
      ],
      "execution_count": null,
      "outputs": []
    },
    {
      "cell_type": "code",
      "metadata": {
        "id": "DTuvcwVa3-ut"
      },
      "source": [
        ""
      ],
      "execution_count": null,
      "outputs": []
    },
    {
      "cell_type": "code",
      "metadata": {
        "colab": {
          "base_uri": "https://localhost:8080/"
        },
        "id": "S9rS5_s63-ut",
        "outputId": "fbd6cb39-7d79-47c5-84b9-af9e58bc61f8"
      },
      "source": [
        "train = train.drop(columns='readmitted')\n",
        "\n",
        "x_train = train.drop(columns='readmitted_num')\n",
        "y_train = train['readmitted_num']\n",
        "\n",
        "input_node = ak.StructuredDataInput()\n",
        "output_node = ak.StructuredDataBlock(categorical_encoding=True)(input_node)\n",
        "output_node = ak.ClassificationHead()(output_node)\n",
        "clf = ak.AutoModel(\n",
        "    inputs=input_node, \n",
        "    outputs=output_node, \n",
        "    overwrite=True,\n",
        "    max_trials=20)\n",
        "clf.fit(x_train, y_train, epochs=50)"
      ],
      "execution_count": null,
      "outputs": [
        {
          "output_type": "stream",
          "text": [
            "Trial 20 Complete [00h 01m 55s]\n",
            "val_loss: 0.6795052886009216\n",
            "\n",
            "Best val_loss So Far: 0.6533282399177551\n",
            "Total elapsed time: 01h 02m 17s\n",
            "INFO:tensorflow:Oracle triggered exit\n",
            "Epoch 1/50\n",
            "1569/1569 [==============================] - 6s 3ms/step - loss: 0.8809 - accuracy: 0.6073\n",
            "Epoch 2/50\n",
            "1569/1569 [==============================] - 4s 3ms/step - loss: 0.7663 - accuracy: 0.6747\n",
            "Epoch 3/50\n",
            "1569/1569 [==============================] - 4s 2ms/step - loss: 0.7409 - accuracy: 0.6848\n",
            "Epoch 4/50\n",
            "1569/1569 [==============================] - 4s 2ms/step - loss: 0.7254 - accuracy: 0.6911\n",
            "Epoch 5/50\n",
            "1569/1569 [==============================] - 4s 2ms/step - loss: 0.7146 - accuracy: 0.6942\n",
            "Epoch 6/50\n",
            "1569/1569 [==============================] - 5s 3ms/step - loss: 0.7060 - accuracy: 0.6993\n",
            "Epoch 7/50\n",
            "1569/1569 [==============================] - 4s 3ms/step - loss: 0.6997 - accuracy: 0.7011\n",
            "Epoch 8/50\n",
            "1569/1569 [==============================] - 4s 2ms/step - loss: 0.6939 - accuracy: 0.7024\n",
            "Epoch 9/50\n",
            "1569/1569 [==============================] - 4s 3ms/step - loss: 0.6885 - accuracy: 0.7049\n",
            "Epoch 10/50\n",
            "1569/1569 [==============================] - 4s 2ms/step - loss: 0.6836 - accuracy: 0.7081\n",
            "Epoch 11/50\n",
            "1569/1569 [==============================] - 4s 2ms/step - loss: 0.6803 - accuracy: 0.7102\n",
            "Epoch 12/50\n",
            "1569/1569 [==============================] - 4s 2ms/step - loss: 0.6768 - accuracy: 0.7134\n",
            "Epoch 13/50\n",
            "1569/1569 [==============================] - 4s 2ms/step - loss: 0.6734 - accuracy: 0.7156\n",
            "Epoch 14/50\n",
            "1569/1569 [==============================] - 4s 2ms/step - loss: 0.6708 - accuracy: 0.7149\n",
            "Epoch 15/50\n",
            "1569/1569 [==============================] - 4s 2ms/step - loss: 0.6676 - accuracy: 0.7154\n",
            "Epoch 16/50\n",
            "1569/1569 [==============================] - 4s 2ms/step - loss: 0.6651 - accuracy: 0.7157\n",
            "Epoch 17/50\n",
            "1569/1569 [==============================] - 4s 2ms/step - loss: 0.6622 - accuracy: 0.7174\n",
            "Epoch 18/50\n",
            "1569/1569 [==============================] - 4s 2ms/step - loss: 0.6597 - accuracy: 0.7182\n",
            "Epoch 19/50\n",
            "1569/1569 [==============================] - 4s 2ms/step - loss: 0.6578 - accuracy: 0.7206\n",
            "Epoch 20/50\n",
            "1569/1569 [==============================] - 4s 2ms/step - loss: 0.6545 - accuracy: 0.7195\n",
            "Epoch 21/50\n",
            "1569/1569 [==============================] - 4s 2ms/step - loss: 0.6531 - accuracy: 0.7206\n",
            "Epoch 22/50\n",
            "1569/1569 [==============================] - 4s 2ms/step - loss: 0.6505 - accuracy: 0.7228\n",
            "Epoch 23/50\n",
            "1569/1569 [==============================] - 4s 2ms/step - loss: 0.6492 - accuracy: 0.7245\n",
            "Epoch 24/50\n",
            "1569/1569 [==============================] - 4s 2ms/step - loss: 0.6483 - accuracy: 0.7251\n",
            "Epoch 25/50\n",
            "1569/1569 [==============================] - 4s 2ms/step - loss: 0.6459 - accuracy: 0.7266\n",
            "Epoch 26/50\n",
            "1569/1569 [==============================] - 4s 2ms/step - loss: 0.6451 - accuracy: 0.7269\n",
            "Epoch 27/50\n",
            "1569/1569 [==============================] - 4s 2ms/step - loss: 0.6437 - accuracy: 0.7270\n",
            "Epoch 28/50\n",
            "1569/1569 [==============================] - 4s 2ms/step - loss: 0.6432 - accuracy: 0.7277\n",
            "Epoch 29/50\n",
            "1569/1569 [==============================] - 4s 2ms/step - loss: 0.6425 - accuracy: 0.7283\n",
            "Epoch 30/50\n",
            "1569/1569 [==============================] - 4s 2ms/step - loss: 0.6413 - accuracy: 0.7290\n",
            "Epoch 31/50\n",
            "1569/1569 [==============================] - 4s 2ms/step - loss: 0.6393 - accuracy: 0.7311\n",
            "Epoch 32/50\n",
            "1569/1569 [==============================] - 4s 2ms/step - loss: 0.6386 - accuracy: 0.7304\n",
            "Epoch 33/50\n",
            "1569/1569 [==============================] - 4s 2ms/step - loss: 0.6374 - accuracy: 0.7304\n",
            "Epoch 34/50\n",
            "1569/1569 [==============================] - 4s 2ms/step - loss: 0.6365 - accuracy: 0.7309\n",
            "Epoch 35/50\n",
            "1569/1569 [==============================] - 4s 2ms/step - loss: 0.6357 - accuracy: 0.7308\n",
            "Epoch 36/50\n",
            "1569/1569 [==============================] - 4s 2ms/step - loss: 0.6350 - accuracy: 0.7312\n",
            "Epoch 37/50\n",
            "1569/1569 [==============================] - 4s 2ms/step - loss: 0.6343 - accuracy: 0.7314\n",
            "Epoch 38/50\n",
            "1569/1569 [==============================] - 4s 2ms/step - loss: 0.6337 - accuracy: 0.7318\n",
            "Epoch 39/50\n",
            "1569/1569 [==============================] - 4s 2ms/step - loss: 0.6325 - accuracy: 0.7325\n",
            "Epoch 40/50\n",
            "1569/1569 [==============================] - 4s 2ms/step - loss: 0.6320 - accuracy: 0.7327\n",
            "Epoch 41/50\n",
            "1569/1569 [==============================] - 4s 2ms/step - loss: 0.6318 - accuracy: 0.7325\n",
            "Epoch 42/50\n",
            "1569/1569 [==============================] - 4s 2ms/step - loss: 0.6299 - accuracy: 0.7329\n",
            "Epoch 43/50\n",
            "1569/1569 [==============================] - 4s 2ms/step - loss: 0.6296 - accuracy: 0.7346\n",
            "Epoch 44/50\n",
            "1569/1569 [==============================] - 4s 2ms/step - loss: 0.6289 - accuracy: 0.7353\n",
            "Epoch 45/50\n",
            "1569/1569 [==============================] - 4s 2ms/step - loss: 0.6282 - accuracy: 0.7352\n",
            "Epoch 46/50\n",
            "1569/1569 [==============================] - 4s 2ms/step - loss: 0.6278 - accuracy: 0.7345\n",
            "Epoch 47/50\n",
            "1569/1569 [==============================] - 4s 3ms/step - loss: 0.6257 - accuracy: 0.7355\n",
            "Epoch 48/50\n",
            "1569/1569 [==============================] - 4s 2ms/step - loss: 0.6248 - accuracy: 0.7363\n",
            "Epoch 49/50\n",
            "1569/1569 [==============================] - 4s 2ms/step - loss: 0.6246 - accuracy: 0.7351\n",
            "Epoch 50/50\n",
            "1569/1569 [==============================] - 4s 2ms/step - loss: 0.6246 - accuracy: 0.7360\n",
            "INFO:tensorflow:Assets written to: ./auto_model/best_model/assets\n"
          ],
          "name": "stdout"
        }
      ]
    },
    {
      "cell_type": "code",
      "metadata": {
        "id": "6rNGNksm3-ut"
      },
      "source": [
        "test = test.drop(columns='readmitted')\n",
        "\n",
        "x_test = test.drop(columns='readmitted_num')\n",
        "y_test = test['readmitted_num']\n",
        "\n",
        "predicted_y = clf.predict(x_test)\n",
        "# Evaluate the best model with testing data.\n",
        "print(clf.evaluate(x_test,y_test))"
      ],
      "execution_count": null,
      "outputs": []
    },
    {
      "cell_type": "code",
      "metadata": {
        "id": "ErMDuDCa3-ut"
      },
      "source": [
        "model = clf.export_model()\n",
        "model.summary()"
      ],
      "execution_count": null,
      "outputs": []
    },
    {
      "cell_type": "code",
      "metadata": {
        "id": "QAjRu54d3-uu"
      },
      "source": [
        ""
      ],
      "execution_count": null,
      "outputs": []
    },
    {
      "cell_type": "code",
      "metadata": {
        "id": "nlZB6qBQ3-uu"
      },
      "source": [
        "real_data = real_data.drop(columns='readmitted')\n",
        "x_real_data = real_data.drop(columns='readmitted_num')\n",
        "y_real_data = real_data['readmitted_num']\n",
        "print(clf.evaluate(x_real_data,y_real_data))"
      ],
      "execution_count": null,
      "outputs": []
    },
    {
      "cell_type": "code",
      "metadata": {
        "id": "_VqEVQlC3-uu"
      },
      "source": [
        ""
      ],
      "execution_count": null,
      "outputs": []
    }
  ]
}